{
  "nbformat": 4,
  "nbformat_minor": 0,
  "metadata": {
    "colab": {
      "name": "Task 1(Python training).ipynb",
      "provenance": [],
      "collapsed_sections": [],
      "authorship_tag": "ABX9TyMM0Qrg4lCJFLvzlWZ6w/tv",
      "include_colab_link": true
    },
    "kernelspec": {
      "name": "python3",
      "display_name": "Python 3"
    },
    "language_info": {
      "name": "python"
    }
  },
  "cells": [
    {
      "cell_type": "markdown",
      "metadata": {
        "id": "view-in-github",
        "colab_type": "text"
      },
      "source": [
        "<a href=\"https://colab.research.google.com/github/smylebifa/python-basics/blob/main/Task_1(Python_training).ipynb\" target=\"_parent\"><img src=\"https://colab.research.google.com/assets/colab-badge.svg\" alt=\"Open In Colab\"/></a>"
      ]
    },
    {
      "cell_type": "code",
      "metadata": {
        "id": "ig1yHJQNmMEU"
      },
      "source": [
        "# функция для нахождение расстояний между точками\n",
        "def distance_between_two_points(point1, point2):\n",
        "  return round((((point2[0] - point1[0]) ** 2 + (point2[1] - point1[1]) ** 2) ** 0.5), 3)"
      ],
      "execution_count": 1,
      "outputs": []
    },
    {
      "cell_type": "code",
      "metadata": {
        "id": "MQXPfcKmrtC_"
      },
      "source": [
        "# координаты пяти точек\n",
        "point_1 = (0, 2)  \n",
        "point_2 = (2, 5)  \n",
        "point_3 = (5, 2)  \n",
        "point_4 = (6, 6) \n",
        "point_5 = (8, 3)\n",
        "\n",
        "points = [point_1, point_2, point_3, point_4, point_5]"
      ],
      "execution_count": 2,
      "outputs": []
    },
    {
      "cell_type": "code",
      "metadata": {
        "id": "i5jgAcMV_b7r"
      },
      "source": [
        "# вычисление расстояний между точками\n",
        "path12 = distance_between_two_points(point_1, point_2)\n",
        "path13 = distance_between_two_points(point_1, point_3)\n",
        "path14 = distance_between_two_points(point_1, point_4)\n",
        "path15 = distance_between_two_points(point_1, point_5)\n",
        "\n",
        "path23 = distance_between_two_points(point_2, point_3)\n",
        "path24 = distance_between_two_points(point_2, point_4)\n",
        "path25 = distance_between_two_points(point_2, point_5)\n",
        "\n",
        "path34 = distance_between_two_points(point_3, point_4)\n",
        "path35 = distance_between_two_points(point_3, point_5)\n",
        "\n",
        "path45 = distance_between_two_points(point_4, point_5)\n",
        "\n",
        "# таблица расстояний между точками\n",
        "paths = [\n",
        "  [0, path12, path13, path14, path15],\n",
        "\t[path12, 0, path23, path24, path25],\n",
        "\t[path13, path23, 0, path34, path35],\n",
        "\t[path14, path24, path34, 0, path34],\n",
        "\t[path15, path25, path35, path45, 0],\n",
        "]"
      ],
      "execution_count": 3,
      "outputs": []
    },
    {
      "cell_type": "code",
      "metadata": {
        "id": "CGPEtAyYqZzg",
        "colab": {
          "base_uri": "https://localhost:8080/"
        },
        "outputId": "572472a5-8489-4318-adc8-d1a0a10a4175"
      },
      "source": [
        "# расстояния между точками\n",
        "for i in range(len(paths)):\n",
        "  print(paths[i])"
      ],
      "execution_count": 4,
      "outputs": [
        {
          "output_type": "stream",
          "name": "stdout",
          "text": [
            "[0, 3.606, 5.0, 7.211, 8.062]\n",
            "[3.606, 0, 4.243, 4.123, 6.325]\n",
            "[5.0, 4.243, 0, 4.123, 3.162]\n",
            "[7.211, 4.123, 4.123, 0, 4.123]\n",
            "[8.062, 6.325, 3.162, 3.606, 0]\n"
          ]
        }
      ]
    },
    {
      "cell_type": "code",
      "metadata": {
        "id": "t4rvyko1DEZy"
      },
      "source": [
        "# функция поиска пройденного расстояния между точками\n",
        "def calcSum(curPoints):\n",
        "  curPaths = []\n",
        "  sumPaths = [0, 0, 0, 0, 0]\n",
        "  for i in range(len(curPoints) - 1):\n",
        "    curPaths.append(paths[curPoints[i]][curPoints[i+1]])\n",
        "  curPaths.append(paths[curPoints[len(curPoints) - 1]][curPoints[i]])\n",
        "  for x1 in range(len(curPoints)):\n",
        "    for x2 in range(x1 + 1):\n",
        "      sumPaths[x1] = sumPaths[x1] + curPaths[x2]         \n",
        "  return sumPaths"
      ],
      "execution_count": 5,
      "outputs": []
    },
    {
      "cell_type": "code",
      "metadata": {
        "colab": {
          "base_uri": "https://localhost:8080/"
        },
        "id": "uKEglU-ctI8z",
        "outputId": "86bea799-3def-4f5f-c531-17b215923914"
      },
      "source": [
        "# массив, где будут храниться все просчитанные маршруты\n",
        "path = []\n",
        "\n",
        "# порядковый номер текущего маршрута\n",
        "counter = 0\n",
        "\n",
        "# самый короткий путь — сразу ставим заведомо большим, \n",
        "# чтобы уменьшать его по мере работы алгоритма\n",
        "minPath = 10000\n",
        "\n",
        "# номер самого короткого маршрута\n",
        "minCounter = 0\n",
        "\n",
        "# точки текущего маршрута и расстояние, пройденное по этим точкам\n",
        "curPoints = []\n",
        "curPaths = []\n",
        "\n",
        "# номер начальной точки из которой строим маршрут\n",
        "i1 = 0\n",
        "\n",
        "# перебираем все варианты перемещения по городам\n",
        "for i2 in range(1, 5): \n",
        "\tfor i3 in range(1, 5): \n",
        "\t\tfor i4 in range(1, 5): \n",
        "\t\t\tfor i5 in range(1, 5): \n",
        "\t\t\t\t# нельзя посещать один и тот же город больше одного раза\n",
        "\t\t\t\tif ((i1 != i2) and (i1 != i3) and (i1 != i4) and (i1 != i5) \n",
        "\t\t\t\tand (i2 != i3) and (i2 != i4) and (i2 != i5) and (i3 != i4) \n",
        "\t\t\t\tand (i3 != i5) and (i4 != i5)):\n",
        "\n",
        "\t\t\t\t\tcurPoints = [i1, i2, i3, i4, i5]\n",
        "\t\t\t\t\t\n",
        "\t\t\t\t\tcurPaths = calcSum(curPoints)\n",
        "\t\t\t\t\t\n",
        "\t\t\t\t\t# запоминаем текущий путь\n",
        "\t\t\t\t\tpath.append(\"{} -> {}[{}] -> {}[{}] -> {}[{}] -> {}[{}] -> {}[{}]\"\n",
        "\t\t\t\t\t.format(points[i1], points[i2], curPaths[0], points[i3], curPaths[1], \n",
        "\t\t\t\t\tpoints[i4], curPaths[2], points[i5], curPaths[3], points[i1], curPaths[4]))\t\t\t\t\t\t\t\n",
        "\t\t\t\t\t\n",
        "\t\t\t\t\t# если общее расстоения этого пути меньше минимального\n",
        "\t\t\t\t\tif (curPaths[4] < minPath): \t\t\t\t\t\t\t\t\n",
        "\t\t\t\t\t\t# то мы запоминаем это минимальное расстояние\n",
        "\t\t\t\t\t\tminPath = curPaths[4]\t\t\t\n",
        "\t\t\t\t\t\t\t\n",
        "\t\t\t\t\t\t# запоминаем номер этого маршрута с минимальным расстоянием\n",
        "\t\t\t\t\t\tminCounter = counter\n",
        "\t\t\t\t\t\n",
        "\t\t\t\t\t# когда всё сделали, увеличиваем номер маршрута\n",
        "\t\t\t\t\tcounter += 1\n",
        "\n",
        "# когда прошли все варианты, выводим найденное решение\n",
        "print(f\"Путь с самой короткой длиной маршрута: {path[minCounter]} = ({minPath})\")"
      ],
      "execution_count": 6,
      "outputs": [
        {
          "output_type": "stream",
          "name": "stdout",
          "text": [
            "Путь с самой короткой длиной маршрута: (0, 2) -> (2, 5)[3.606] -> (6, 6)[7.729] -> (5, 2)[11.852] -> (8, 3)[15.014] -> (0, 2)[18.176] = (18.176)\n"
          ]
        }
      ]
    }
  ]
}