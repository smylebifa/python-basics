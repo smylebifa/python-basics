{
  "nbformat": 4,
  "nbformat_minor": 0,
  "metadata": {
    "colab": {
      "name": "Task 1(Python training).ipynb",
      "provenance": [],
      "authorship_tag": "ABX9TyNafOSR2OhT8Ya4nz4ZLNgq",
      "include_colab_link": true
    },
    "kernelspec": {
      "name": "python3",
      "display_name": "Python 3"
    },
    "language_info": {
      "name": "python"
    }
  },
  "cells": [
    {
      "cell_type": "markdown",
      "metadata": {
        "id": "view-in-github",
        "colab_type": "text"
      },
      "source": [
        "<a href=\"https://colab.research.google.com/github/smylebifa/python-basics/blob/main/Task_1(Python_training).ipynb\" target=\"_parent\"><img src=\"https://colab.research.google.com/assets/colab-badge.svg\" alt=\"Open In Colab\"/></a>"
      ]
    },
    {
      "cell_type": "code",
      "metadata": {
        "id": "ig1yHJQNmMEU"
      },
      "source": [
        "def distance_between_two_points(point1, point2):\n",
        "    return round((((point2[0] - point1[0]) ** 2 + (point2[1] - point1[1]) ** 2) ** 0.5), 3)"
      ],
      "execution_count": 1,
      "outputs": []
    },
    {
      "cell_type": "code",
      "metadata": {
        "id": "MQXPfcKmrtC_"
      },
      "source": [
        "# координаты пяти точек\n",
        "point_0 = (0, 2)  \n",
        "point_1 = (2, 5)  \n",
        "point_2 = (5, 2)  \n",
        "point_3 = (6, 6) \n",
        "point_4 = (8, 3)\n",
        "\n",
        "# вычисление расстояний между точками\n",
        "path01 = distance_between_two_points(point_0, point_1)\n",
        "path02 = distance_between_two_points(point_0, point_2)\n",
        "path03 = distance_between_two_points(point_0, point_3)\n",
        "path04 = distance_between_two_points(point_0, point_4)\n",
        "\n",
        "path12 = distance_between_two_points(point_1, point_2)\n",
        "path13 = distance_between_two_points(point_1, point_3)\n",
        "path14 = distance_between_two_points(point_1, point_4)\n",
        "\n",
        "path23 = distance_between_two_points(point_2, point_3)\n",
        "path24 = distance_between_two_points(point_2, point_4)\n",
        "\n",
        "path34 = distance_between_two_points(point_3, point_4)"
      ],
      "execution_count": 2,
      "outputs": []
    },
    {
      "cell_type": "code",
      "metadata": {
        "id": "i5jgAcMV_b7r"
      },
      "source": [
        "# таблица расстояний между точками\n",
        "towns = [\n",
        "\t[0, path01, path02, path03, path04],\n",
        "\t[path01, 0, path12, path13, path14],\n",
        "\t[path02, path12, 0, path23, path24],\n",
        "\t[path03, path13, path23, 0, path34],\n",
        "\t[path04, path14, path24, path34, 0],\n",
        "]"
      ],
      "execution_count": 3,
      "outputs": []
    },
    {
      "cell_type": "code",
      "metadata": {
        "id": "CGPEtAyYqZzg",
        "colab": {
          "base_uri": "https://localhost:8080/"
        },
        "outputId": "b014d4eb-d68f-4ac5-c734-7842df506caa"
      },
      "source": [
        "for i in range(len(towns)):\n",
        "  print(towns[i])"
      ],
      "execution_count": 9,
      "outputs": [
        {
          "output_type": "stream",
          "name": "stdout",
          "text": [
            "[0, 3.606, 5.0, 7.211, 8.062]\n",
            "[3.606, 0, 4.243, 4.123, 6.325]\n",
            "[5.0, 4.243, 0, 4.123, 3.162]\n",
            "[7.211, 4.123, 4.123, 0, 3.606]\n",
            "[8.062, 6.325, 3.162, 3.606, 0]\n"
          ]
        }
      ]
    },
    {
      "cell_type": "code",
      "metadata": {
        "colab": {
          "base_uri": "https://localhost:8080/"
        },
        "id": "ekbtrHlL_DQo",
        "outputId": "1d6e4544-0173-4de1-de95-10a2b467ab5a"
      },
      "source": [
        "# массив, где будут храниться все просчитанные маршруты\n",
        "path = []\n",
        "\n",
        "# порядковый номер текущего маршрута\n",
        "counter = 0\n",
        "\n",
        "# самый короткий путь — сразу ставим заведомо большим, \n",
        "# чтобы уменьшать его по мере работы алгоритма\n",
        "minPath = 10000\n",
        "\n",
        "# номер самого короткого маршрута\n",
        "minCounter = 0\n",
        "\n",
        "# перебираем все варианты перемещения по городам\n",
        "for i1 in range(5): \n",
        "\tfor i2 in range(5): \n",
        "\t\tfor i3 in range(5): \n",
        "\t\t\tfor i4 in range(5): \n",
        "\t\t\t\tfor i5 in range(5): \n",
        "\t\t\t\t\t# нельзя посещать один и тот же город больше одного раза\n",
        "\t\t\t\t\tif ((i1 != i2) and (i1 != i3) and (i1 != i4) and (i1 != i5) \n",
        "\t\t \t\t\t\t   and (i2 != i3) and (i2 != i4) and (i2 != i5) and (i3 != i4) \n",
        "\t\t\t\t\t\t   and (i3 != i5) and (i4 != i5)):\n",
        "\t\t\t\t\t\t\n",
        "\t\t\t\t\t\t# запоминаем текущий путь\n",
        "\t\t\t\t\t\tpath.append(\"{} -> {} -> {} -> {} -> {}\".format(i1, i2, i3, i4, i5))\t\t\t\t\t\t\t\n",
        "\t\t\t\t\t\t\t\n",
        "            # если общее расстоения этого пути меньше минимального\n",
        "\t\t\t\t\t\tif ((towns[i1][i2] + towns[i2][i3] + towns[i3][i4] + towns[i4][i5]) < minPath): \t\t\t\t\t\t\t\t\n",
        "            \t# то мы запоминаем это минимальное расстояние\n",
        "\t\t\t\t\t\t\tminPath = towns[i1][i2] + towns[i2][i3] + towns[i3][i4] + towns[i4][i5]\t\t\t\n",
        "\t\t\t\t\t\t\t\t\n",
        "              # запоминаем номер этого маршрута с минимальным расстоянием\n",
        "\t\t\t\t\t\t\tminCounter = counter\n",
        "\t\t\t\t\t\t\n",
        "\t\t\t\t\t\t# когда всё сделали, увеличиваем номер маршрута\n",
        "\t\t\t\t\t\tcounter += 1\n",
        "\n",
        "# когда прошли все варианты, выводим найденное решение\n",
        "print(f\"Путь с самой короткой длиной маршрута: {path[minCounter]} ({minPath})\")"
      ],
      "execution_count": 11,
      "outputs": [
        {
          "output_type": "stream",
          "name": "stdout",
          "text": [
            "Путь с самой короткой длиной маршрута: 0 -> 1 -> 3 -> 4 -> 2 (14.497)\n"
          ]
        }
      ]
    }
  ]
}